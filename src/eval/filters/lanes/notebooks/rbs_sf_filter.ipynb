{
 "cells": [
  {
   "cell_type": "code",
   "execution_count": null,
   "metadata": {},
   "outputs": [],
   "source": [
    "%load_ext autoreload\n",
    "%autoreload 2\n",
    "\n",
    "import os\n",
    "from pathlib import Path\n",
    "\n",
    "os.chdir(Path(os.getcwd()).parent)\n",
    "os.getcwd()"
   ]
  },
  {
   "cell_type": "code",
   "execution_count": null,
   "metadata": {},
   "outputs": [],
   "source": [
    "import pandas as pd\n",
    "from PIL import Image\n",
    "import matplotlib.pyplot as plt\n",
    "from matplotlib.patches import Rectangle\n",
    "import numpy as np\n",
    "from typing import List, Tuple"
   ]
  },
  {
   "cell_type": "markdown",
   "metadata": {},
   "source": [
    "Constants"
   ]
  },
  {
   "cell_type": "code",
   "execution_count": null,
   "metadata": {},
   "outputs": [],
   "source": [
    "LANES_MODEL_RESULTS_PATH = '/home/tamir/workspace/AB_AutoTagging_Lanes/tmp/sf_rbs_model_results'\n",
    "PREDICTION_PATH='/home/tamir/workspace/AB_AutoTagging_Lanes/tmp/b2b_pred_with_rbs.tsv'\n",
    "DATASET_PATH='/home/tamir/datasets/IL_weekend_run/64eef8f8ac243656c2bd2b76/'"
   ]
  },
  {
   "cell_type": "markdown",
   "metadata": {},
   "source": [
    "Load autolabel predictions"
   ]
  },
  {
   "cell_type": "code",
   "execution_count": null,
   "metadata": {},
   "outputs": [],
   "source": [
    "pred_df=pd.read_csv(PREDICTION_PATH,sep='\\t')\n",
    "pred_df.head()"
   ]
  },
  {
   "cell_type": "code",
   "execution_count": null,
   "metadata": {},
   "outputs": [],
   "source": [
    "from ab_autotagging_lanes.single_frame.adapter import LaneDetectionModel\n",
    "\n",
    "df_lanes, df_rbs = LaneDetectionModel.read_and_parse_results(results_path=LANES_MODEL_RESULTS_PATH)\n",
    "df_rbs.head()"
   ]
  },
  {
   "cell_type": "code",
   "execution_count": null,
   "metadata": {},
   "outputs": [],
   "source": [
    "from ab_autotagging_lanes.road_boundaries_filter import RoadBoundaryFilter, RoadBoundaryFilterParams\n",
    "\n",
    "rbs_filter = RoadBoundaryFilter(params=RoadBoundaryFilterParams(images_path=DATASET_PATH))\n",
    "\n",
    "\n",
    "image_name = '1693150350999951.png'\n",
    "df_rbs_single=df_rbs[df_rbs.name == image_name]\n",
    "detections = pred_df[pred_df.name==image_name]\n",
    "\n",
    "rbs_filter.apply_filter_SF(detections=detections, df_rbs_single=df_rbs_single, plot=True, image_name=image_name)"
   ]
  },
  {
   "cell_type": "code",
   "execution_count": null,
   "metadata": {},
   "outputs": [],
   "source": [
    "for image_name in np.random.choice(df_rbs.name.unique(), 50, replace=False):\n",
    "    print(image_name)\n",
    "    df_rbs_single=df_rbs[df_rbs.name == image_name]\n",
    "    detections = pred_df[pred_df.name==image_name]\n",
    "\n",
    "    rbs_filter.apply_filter_SF(detections=detections, df_rbs_single=df_rbs_single, plot=True, image_name=image_name)"
   ]
  },
  {
   "cell_type": "markdown",
   "metadata": {},
   "source": [
    "### Special Cases"
   ]
  },
  {
   "cell_type": "code",
   "execution_count": null,
   "metadata": {},
   "outputs": [],
   "source": [
    "special_cases = [\n",
    "    '1693154053000216.png',\n",
    "    '1693150350999951.png',\n",
    "    '1693150393000194.png',\n",
    "    '1693153105999965.png',\n",
    "    '1693153187000162.png',\n",
    "    '1693150238999860.png',\n",
    "    '1693152045000051.png',\n",
    "    '1693154748000235.png',\n",
    "]\n",
    "# special_cases = [\n",
    "#     '1693154342000195.png',\n",
    "#     '1693151118999896.png'\n",
    "# ]\n",
    "\n",
    "for image_name in special_cases:\n",
    "    df_rbs_single=df_rbs[df_rbs.name == image_name]\n",
    "    detections = pred_df[pred_df.name==image_name]\n",
    "\n",
    "    rbs_filter.apply_filter(detections=detections, df_rbs_single=df_rbs_single, plot=True, image_name=image_name)"
   ]
  },
  {
   "cell_type": "markdown",
   "metadata": {},
   "source": [
    "## Statistics"
   ]
  },
  {
   "cell_type": "markdown",
   "metadata": {},
   "source": [
    "#### Total rbs groups per image"
   ]
  },
  {
   "cell_type": "code",
   "execution_count": null,
   "metadata": {},
   "outputs": [],
   "source": [
    "plt.title(f'Total rbs groups per image')\n",
    "plt.hist(df_rbs.groupby('name').anchor_idx.nunique().values)\n",
    "plt.show()"
   ]
  },
  {
   "cell_type": "markdown",
   "metadata": {},
   "source": [
    "#### Size of rbs anchor groups"
   ]
  },
  {
   "cell_type": "code",
   "execution_count": null,
   "metadata": {},
   "outputs": [],
   "source": [
    "size_of_group_ths = 50\n",
    "\n",
    "plt.title(f'Size of anchor groups, ths={size_of_group_ths}')\n",
    "plt.hist(df_rbs.groupby(['name', 'anchor_idx']).size(), bins=50)\n",
    "plt.axvline(x=size_of_group_ths, color='red')\n",
    "plt.show()"
   ]
  },
  {
   "cell_type": "markdown",
   "metadata": {},
   "source": [
    "## Apply On Detections DataFrame"
   ]
  },
  {
   "cell_type": "code",
   "execution_count": null,
   "metadata": {},
   "outputs": [],
   "source": [
    "b2b_pred_path = '/home/tamir/workspace/AB_AutoTagging_Lanes/tmp/b2b_pred_with_rbs.tsv'\n",
    "b2b_pred_df = pd.read_csv(b2b_pred_path, sep='\\t')\n",
    "b2b_pred_df['is_inside_boundaries'] = None\n",
    "\n",
    "prod_pred_path = '/home/tamir/workspace/AB_AutoTagging_Lanes/tmp/prod_pred_with_rbs.tsv'\n",
    "prod_pred_df = pd.read_csv(prod_pred_path, sep='\\t')\n",
    "prod_pred_df['is_inside_boundaries'] = None"
   ]
  },
  {
   "cell_type": "code",
   "execution_count": null,
   "metadata": {},
   "outputs": [],
   "source": [
    "from tqdm import tqdm\n",
    "\n",
    "for image_name in tqdm(df_rbs.name.unique()):\n",
    "    df_rbs_single=df_rbs[df_rbs.name == image_name]\n",
    "    \n",
    "    if len(df_rbs_single) == 0:\n",
    "        continue\n",
    "    \n",
    "    b2b_detections = b2b_pred_df[b2b_pred_df.name==image_name]\n",
    "    if len(b2b_detections) > 0:\n",
    "        is_inside_road_boundary, fit_meta = rbs_filter.apply_filter(detections=b2b_detections, df_rbs_single=df_rbs_single, plot=False, image_name=image_name)\n",
    "        b2b_pred_df.loc[b2b_pred_df.name == image_name, 'is_inside_boundaries'] = is_inside_road_boundary\n",
    "        \n",
    "    prod_detections = prod_pred_df[prod_pred_df.name == int(image_name[:-4])]\n",
    "    if len(prod_detections) > 0:\n",
    "        is_inside_road_boundary, fit_meta = rbs_filter.apply_filter(detections=prod_detections, df_rbs_single=df_rbs_single, plot=False, image_name=image_name)\n",
    "        prod_pred_df.loc[prod_pred_df.name == int(image_name[:-4]), 'is_inside_boundaries'] = is_inside_road_boundary\n",
    "    \n",
    "print('Done !')"
   ]
  },
  {
   "cell_type": "code",
   "execution_count": null,
   "metadata": {},
   "outputs": [],
   "source": [
    "b2b_pred_df.to_csv('/home/tamir/workspace/AB_AutoTagging_Lanes/tmp/b2b_pred_with_rbs_v2.tsv', sep=\"\\t\") \n",
    "prod_pred_df.to_csv('/home/tamir/workspace/AB_AutoTagging_Lanes/tmp/prod_pred_with_rbs_v2.tsv', sep=\"\\t\") \n"
   ]
  }
 ],
 "metadata": {
  "kernelspec": {
   "display_name": ".venv",
   "language": "python",
   "name": "python3"
  },
  "language_info": {
   "codemirror_mode": {
    "name": "ipython",
    "version": 3
   },
   "file_extension": ".py",
   "mimetype": "text/x-python",
   "name": "python",
   "nbconvert_exporter": "python",
   "pygments_lexer": "ipython3",
   "version": "3.8.10"
  }
 },
 "nbformat": 4,
 "nbformat_minor": 2
}
