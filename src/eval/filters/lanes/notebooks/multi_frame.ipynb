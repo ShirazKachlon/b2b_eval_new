{
 "cells": [
  {
   "cell_type": "code",
   "execution_count": null,
   "metadata": {},
   "outputs": [],
   "source": [
    "%load_ext autoreload\n",
    "%autoreload 2\n",
    "\n",
    "import os\n",
    "from pathlib import Path\n",
    "\n",
    "os.chdir(Path(os.getcwd()).parent.parent.parent)\n",
    "os.getcwd()"
   ]
  },
  {
   "cell_type": "code",
   "execution_count": null,
   "metadata": {},
   "outputs": [],
   "source": [
    "import sys\n",
    "sys.path.append('/home/tamir/workspace/automotive/src/python')"
   ]
  },
  {
   "cell_type": "code",
   "execution_count": null,
   "metadata": {},
   "outputs": [],
   "source": [
    "import pandas as pd\n",
    "\n",
    "from services.lanes.src.corridor import LanesCorridor, LanesCorridorParams"
   ]
  },
  {
   "cell_type": "markdown",
   "metadata": {},
   "source": [
    "### Run On Set"
   ]
  },
  {
   "cell_type": "code",
   "execution_count": null,
   "metadata": {},
   "outputs": [],
   "source": [
    "def run_on_set(set_path: Path, skip=1, max=-1, plot=False):\n",
    "    b2b_pred_path = set_path.joinpath('results/infer/b2b_det.tsv')\n",
    "    cametra_interface_data_path = set_path\n",
    "    images_path = set_path.joinpath('images')\n",
    "\n",
    "    pred_df = pd.read_csv(b2b_pred_path, sep='\\t')\n",
    "    max = len(pred_df.name.unique()[::skip]) if max == -1 else max\n",
    "    relevant_imgs = pred_df.name.unique()[::skip][:max]\n",
    "    pred_df = pred_df[pred_df.name.isin(relevant_imgs)]\n",
    "\n",
    "    params = LanesCorridorParams(cametra_data_path=cametra_interface_data_path, \n",
    "                                  images_path=images_path,\n",
    "                                  plot=plot)\n",
    "    rbs = LanesCorridor(params=params)\n",
    "\n",
    "    results_df = rbs.apply_all(detections=pred_df, \n",
    "                               save_path=b2b_pred_path.parent)\n",
    "    \n",
    "    return results_df\n",
    "    "
   ]
  },
  {
   "cell_type": "code",
   "execution_count": null,
   "metadata": {},
   "outputs": [],
   "source": [
    "run_on_set(Path('/home/tamir/s3_sync/eu_410/64b4ca8d628d0605eb5a0f2b'), skip=1, plot=True)"
   ]
  },
  {
   "cell_type": "code",
   "execution_count": null,
   "metadata": {},
   "outputs": [],
   "source": [
    "run_on_set(Path('/home/tamir/s3_sync/europe_run_3_10/650fe9117edfb609dc1b8c8a'), skip=5, max=100)"
   ]
  },
  {
   "cell_type": "code",
   "execution_count": null,
   "metadata": {},
   "outputs": [],
   "source": [
    "run_on_set(Path('/home/tamir/s3_sync/eu_410/64bcbd6e628d0605eb5a2dfc'), plot=True, skip=5, max=100) "
   ]
  },
  {
   "cell_type": "code",
   "execution_count": null,
   "metadata": {},
   "outputs": [],
   "source": [
    "results_df = pd.read_csv(Path('/home/tamir/workspace/eu_410_b2b_results_with_rbs.tsv'), sep='\\t')\n",
    "results_df.shape"
   ]
  },
  {
   "cell_type": "code",
   "execution_count": null,
   "metadata": {},
   "outputs": [],
   "source": [
    "from services.lanes.src import statistics\n",
    "\n",
    "statistics.calculate_lanes_statistics(detections=results_df)"
   ]
  },
  {
   "cell_type": "code",
   "execution_count": null,
   "metadata": {},
   "outputs": [],
   "source": [
    "path_to_gt = Path('/home/tamir/s3_sync/eu_410/64bcbd6e628d0605eb5a2dfc/results/infer').joinpath('results_df_with_rbs.tsv')\n",
    "path_to_prod = Path('/home/tamir/s3_sync/eu_410/64bcbd6e628d0605eb5a2dfc/results/infer').joinpath('results_df_with_rbs_prod.tsv')\n",
    "\n",
    "gt_df = pd.read_csv(path_to_gt, sep='\\t')\n",
    "prod_df = pd.read_csv(path_to_prod, sep='\\t')"
   ]
  },
  {
   "cell_type": "code",
   "execution_count": null,
   "metadata": {},
   "outputs": [],
   "source": [
    "gt_df.loc[gt_df.is_outside_boundaries == 'OUTSIDE_BOUNDARIES', 'label'] = 'OUTSIDE_BOUNDARIES'\n",
    "prod_df.loc[prod_df.is_outside_boundaries == 'OUTSIDE_BOUNDARIES', 'label'] = 'OUTSIDE_BOUNDARIES'"
   ]
  },
  {
   "cell_type": "code",
   "execution_count": null,
   "metadata": {},
   "outputs": [],
   "source": [
    "# save the dataframes with the new labels\n",
    "gt_df.to_csv(path_to_gt.parent.joinpath('results_df_with_rbs_changed.tsv'), sep='\\t', index=False)\n",
    "prod_df.to_csv(path_to_prod.parent.joinpath('results_df_with_rbs_prod_changed.tsv'), sep='\\t', index=False)\n"
   ]
  },
  {
   "cell_type": "code",
   "execution_count": null,
   "metadata": {},
   "outputs": [],
   "source": [
    "prod_df = pd.read_csv('/home/tamir/Downloads/superset_prod_results_with_rbs (2).tsv', sep='\\t')\n",
    "b2b_df = pd.read_csv('/home/tamir/Downloads/superset_b2b_results_with_rbs (1).tsv', sep='\\t')\n",
    "prod_df.shape, b2b_df.shape\n"
   ]
  },
  {
   "cell_type": "code",
   "execution_count": null,
   "metadata": {},
   "outputs": [],
   "source": [
    "names = list(set.intersection(set(prod_df.name.unique()), set(b2b_df.name.unique())))[:5000]\n",
    "\n",
    "prod_df_5k = prod_df[prod_df.name.isin(names)]\n",
    "b2b_df_5k = b2b_df[b2b_df.name.isin(names)]\n",
    "\n",
    "prod_df_5k.shape, b2b_df_5k.name.unique().shape, b2b_df_5k.shape, prod_df_5k.name.unique().shape"
   ]
  },
  {
   "cell_type": "code",
   "execution_count": null,
   "metadata": {},
   "outputs": [],
   "source": [
    "# save the dataframes with 5k\n",
    "# gt_df.to_csv(path_to_gt.parent.joinpath('results_df_with_rbs_changed.tsv'), sep='\\t', index=False)\n",
    "prod_df_5k.to_csv('/home/tamir/Downloads/prod_df_5k.tsv', sep='\\t', index=False)\n",
    "b2b_df_5k.to_csv('/home/tamir/Downloads/b2b_df_5k.tsv', sep='\\t', index=False)\n"
   ]
  },
  {
   "cell_type": "code",
   "execution_count": null,
   "metadata": {},
   "outputs": [],
   "source": [
    "prod_df = pd.read_csv('/home/tamir/Downloads/prod_df_5k.tsv', sep='\\t')\n",
    "b2b_df = pd.read_csv('/home/tamir/Downloads/b2b_df_5k.tsv', sep='\\t')\n",
    "\n",
    "prod_df.name.unique().shape, b2b_df.name.unique().shape"
   ]
  },
  {
   "cell_type": "code",
   "execution_count": null,
   "metadata": {},
   "outputs": [],
   "source": [
    "prod_df.name.values"
   ]
  },
  {
   "cell_type": "code",
   "execution_count": null,
   "metadata": {},
   "outputs": [],
   "source": [
    "def count_images(directory):\n",
    "    dir_to_count = {}\n",
    "    for root, _, files in os.walk(directory):\n",
    "        if 'images' in root:\n",
    "            dir_to_count[root] = len(files)\n",
    "    return dir_to_count\n",
    "\n",
    "# Specify the directory and file names\n",
    "directory_path = '/home/tamir/s3_sync/eu_410'\n",
    "\n",
    "# Call the function to find the file paths\n",
    "result = count_images(directory_path)\n",
    "result"
   ]
  },
  {
   "cell_type": "code",
   "execution_count": null,
   "metadata": {},
   "outputs": [],
   "source": [
    "import os\n",
    "\n",
    "def find_file_paths(directory, file_names):\n",
    "    file_paths = []\n",
    "    for root, _, files in os.walk(directory):\n",
    "        for file in files:\n",
    "            if file in file_names:\n",
    "                file_paths.append(os.path.join(root, file))\n",
    "    return file_paths\n",
    "\n",
    "# Specify the directory and file names\n",
    "directory_path = '/home/tamir/s3_sync/eu_410'\n",
    "\n",
    "# Call the function to find the file paths\n",
    "result = find_file_paths(directory_path, prod_df.name.unique())\n",
    "\n",
    "# Print the result\n",
    "for file_path in result:\n",
    "    print(file_path)"
   ]
  },
  {
   "cell_type": "code",
   "execution_count": null,
   "metadata": {},
   "outputs": [],
   "source": [
    "import numpy as np\n",
    "\n",
    "# b2b_df[b2b_df.is_outside_boundaries == 'INSIDE_BOUNDARIES'].label.unique()\n",
    "pd.Series([v.split('_')[0] + '_outside_boundary' for v in prod_df[prod_df.is_outside_boundaries == 'OUTSIDE_BOUNDARIES'].label.values]).shape\n",
    "lbls = pd.Series([v.split('_')[0] + '_outside_boundary' for v in prod_df[prod_df.is_outside_boundaries == 'OUTSIDE_BOUNDARIES'].label.values]).values\n",
    "lbls.shape\n"
   ]
  },
  {
   "cell_type": "code",
   "execution_count": null,
   "metadata": {},
   "outputs": [],
   "source": [
    "prod_df.loc[prod_df.is_outside_boundaries == 'OUTSIDE_BOUNDARIES', 'label'] = lbls\n",
    "prod_df.label.unique()"
   ]
  },
  {
   "cell_type": "code",
   "execution_count": null,
   "metadata": {},
   "outputs": [],
   "source": [
    "prod_df[prod_df.is_outside_boundaries == 'INSIDE_BOUNDARIES'].label.unique()"
   ]
  },
  {
   "cell_type": "code",
   "execution_count": null,
   "metadata": {},
   "outputs": [],
   "source": [
    "prod_df.to_csv('/home/tamir/Downloads/superset_prod_results_with_rbs (2).tsv', sep='\\t', index=False)"
   ]
  },
  {
   "cell_type": "code",
   "execution_count": null,
   "metadata": {},
   "outputs": [],
   "source": [
    "prod_df = pd.read_csv('/home/tamir/Downloads/prod_df_5k.tsv', sep='\\t')\n",
    "prod_df.shape\n"
   ]
  },
  {
   "cell_type": "code",
   "execution_count": null,
   "metadata": {},
   "outputs": [],
   "source": [
    "prod_df.label.unique()"
   ]
  },
  {
   "cell_type": "code",
   "execution_count": null,
   "metadata": {},
   "outputs": [],
   "source": [
    "pd.Series([v.split('_')[0] for v in prod_df[prod_df.is_outside_boundaries == 'OUTSIDE_BOUNDARIES'].label.values]).unique()"
   ]
  },
  {
   "cell_type": "code",
   "execution_count": null,
   "metadata": {},
   "outputs": [],
   "source": [
    "b2b_df = pd.read_csv('/home/tamir/Downloads/b2b_df_5k.tsv', sep='\\t')\n",
    "b2b_df.shape"
   ]
  },
  {
   "cell_type": "code",
   "execution_count": null,
   "metadata": {},
   "outputs": [],
   "source": [
    "c = ['name', 'x_center', 'y_center', 'width', 'height', 'label',\n",
    "                           'score', 'is_occluded', 'is_truncated', 'd3_separation', 'l_label',\n",
    "                           'r_label', 'is_rider_on_2_wheels']\n",
    "b2b_df[c].head()"
   ]
  },
  {
   "cell_type": "code",
   "execution_count": null,
   "metadata": {},
   "outputs": [],
   "source": [
    "prod_df.label.unique()"
   ]
  },
  {
   "cell_type": "code",
   "execution_count": null,
   "metadata": {},
   "outputs": [],
   "source": [
    "'1692223060999783.png' in prod_df.name.values\n",
    "'1695052008999853.png' in prod_df.name.values"
   ]
  },
  {
   "cell_type": "markdown",
   "metadata": {},
   "source": [
    "## Visualize Evaluations"
   ]
  },
  {
   "cell_type": "markdown",
   "metadata": {},
   "source": [
    "## Visualize Evaluations"
   ]
  },
  {
   "cell_type": "code",
   "execution_count": null,
   "metadata": {},
   "outputs": [],
   "source": [
    "import matplotlib.pyplot as plt"
   ]
  },
  {
   "cell_type": "code",
   "execution_count": null,
   "metadata": {},
   "outputs": [],
   "source": [
    "df_rbs = pd.read_csv('/home/tamir/Downloads/eval_table_results_max_recall_test.tsv', sep='\\t')\n",
    "df = pd.read_csv('/home/tamir/Desktop/eval_table_results_max_recall_test.tsv', sep='\\t')"
   ]
  },
  {
   "cell_type": "code",
   "execution_count": null,
   "metadata": {},
   "outputs": [],
   "source": [
    "df.head()"
   ]
  },
  {
   "cell_type": "code",
   "execution_count": null,
   "metadata": {},
   "outputs": [],
   "source": [
    "def calc_recall(x):\n",
    "    a = x[1:].split('/')\n",
    "    if int(a[1]) == 0:\n",
    "        return 0\n",
    "    return int(a[0]) / int(a[1])\n",
    "\n",
    "df['evaluated_recall'] = df.recall.apply(calc_recall)\n",
    "df_rbs['evaluated_recall'] = df_rbs.recall.apply(calc_recall)"
   ]
  },
  {
   "cell_type": "code",
   "execution_count": null,
   "metadata": {},
   "outputs": [],
   "source": [
    "# Assuming df and df_rbs are your DataFrames\n",
    "df_4w = df[df.class_name == '4w']\n",
    "df_rbs_4w = df_rbs[df_rbs.class_name == '4w']\n",
    "\n",
    "# Set up the subplot\n",
    "plt.figure(figsize=(10, 6))\n",
    "\n",
    "# Set the width of the bars\n",
    "bar_width = 0.3\n",
    "\n",
    "# Set positions for the bars\n",
    "positions_df_4w = np.arange(len(df_4w))\n",
    "positions_df_rbs_4w = np.arange(len(df_rbs_4w)) + bar_width + 0.1  # Adding a gap of 0.1\n",
    "\n",
    "# Plot for df_4w in blue\n",
    "plt.barh(positions_df_4w, df_4w['evaluated_recall'], height=bar_width, color='orange', label='df_4w')\n",
    "\n",
    "# Plot for df_rbs_4w in orange\n",
    "plt.barh(positions_df_rbs_4w, df_rbs_4w['evaluated_recall'], height=bar_width, color='green', label='df_rbs_4w')\n",
    "\n",
    "# Add labels on the start of each bar\n",
    "for i, value in enumerate(df_4w['evaluated_recall']):\n",
    "    plt.text(value, positions_df_4w[i], f'{value:.2f}', ha='right', va='center')\n",
    "\n",
    "for i, value in enumerate(df_rbs_4w['evaluated_recall']):\n",
    "    plt.text(value, positions_df_rbs_4w[i], f'{value:.2f}', ha='right', va='center')\n",
    "\n",
    "# Set y-axis ticks and labels\n",
    "plt.yticks(positions_df_4w + bar_width / 2, df_4w.bin)\n",
    "\n",
    "# Set labels and title\n",
    "plt.xlabel('Evaluated Recall')\n",
    "plt.ylabel('Bins')\n",
    "plt.title('Comparison of df_4w and df_rbs_4w')\n",
    "plt.legend()  # Display legend\n",
    "\n",
    "# Adjust layout for better spacing\n",
    "plt.tight_layout()\n",
    "\n",
    "# Display the plot\n",
    "plt.show()"
   ]
  },
  {
   "cell_type": "code",
   "execution_count": null,
   "metadata": {},
   "outputs": [],
   "source": [
    "# Assuming df and df_rbs are your DataFrames\n",
    "df_4w = df[df.class_name == '4w']\n",
    "df_rbs_4w = df_rbs[df_rbs.class_name == '4w']\n",
    "\n",
    "# Set up the subplot\n",
    "plt.figure(figsize=(10, 6))\n",
    "\n",
    "# Set the width of the bars\n",
    "bar_width = 0.3\n",
    "\n",
    "# Set positions for the bars\n",
    "positions_df_4w = np.arange(len(df_4w))\n",
    "positions_df_rbs_4w = np.arange(len(df_rbs_4w)) + bar_width + 0.1  # Adding a gap of 0.1\n",
    "\n",
    "# Plot for df_4w in blue\n",
    "plt.barh(positions_df_4w, df_4w['precision_loose'], height=bar_width, color='orange', label='df_4w')\n",
    "\n",
    "# Plot for df_rbs_4w in orange\n",
    "plt.barh(positions_df_rbs_4w, df_rbs_4w['precision_loose'], height=bar_width, color='green', label='df_rbs_4w')\n",
    "\n",
    "# Add labels on the start of each bar\n",
    "for i, value in enumerate(df_4w['precision_loose']):\n",
    "    plt.text(value, positions_df_4w[i], f'{value:.2f}', ha='right', va='center')\n",
    "\n",
    "for i, value in enumerate(df_rbs_4w['precision_loose']):\n",
    "    plt.text(value, positions_df_rbs_4w[i], f'{value:.2f}', ha='right', va='center')\n",
    "\n",
    "# Set y-axis ticks and labels\n",
    "plt.yticks(positions_df_4w + bar_width / 2, df_4w.bin)\n",
    "\n",
    "# Set labels and title\n",
    "plt.xlabel('Precision Loose')\n",
    "plt.ylabel('Bins')\n",
    "plt.title('Comparison of df_4w and df_rbs_4w')\n",
    "plt.legend()  # Display legend\n",
    "\n",
    "# Adjust layout for better spacing\n",
    "plt.tight_layout()\n",
    "\n",
    "# Display the plot\n",
    "plt.show()"
   ]
  },
  {
   "cell_type": "code",
   "execution_count": null,
   "metadata": {},
   "outputs": [],
   "source": []
  }
 ],
 "metadata": {
  "kernelspec": {
   "display_name": ".venv",
   "language": "python",
   "name": "python3"
  },
  "language_info": {
   "codemirror_mode": {
    "name": "ipython",
    "version": 3
   },
   "file_extension": ".py",
   "mimetype": "text/x-python",
   "name": "python",
   "nbconvert_exporter": "python",
   "pygments_lexer": "ipython3",
   "version": "3.8.18"
  }
 },
 "nbformat": 4,
 "nbformat_minor": 2
}
