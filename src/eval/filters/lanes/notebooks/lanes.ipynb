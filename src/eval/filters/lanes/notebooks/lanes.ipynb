{
 "cells": [
  {
   "cell_type": "markdown",
   "metadata": {},
   "source": [
    "# Initialization"
   ]
  },
  {
   "cell_type": "code",
   "execution_count": null,
   "metadata": {},
   "outputs": [],
   "source": [
    "%load_ext autoreload\n",
    "%autoreload 2\n",
    "\n",
    "import os\n",
    "from pathlib import Path\n",
    "\n",
    "os.chdir(Path(os.getcwd()).parent.parent.parent)\n",
    "os.getcwd()"
   ]
  },
  {
   "cell_type": "code",
   "execution_count": null,
   "metadata": {},
   "outputs": [],
   "source": [
    "import sys\n",
    "sys.path.append('/home/tamir/workspace/automotive/src/python')\n",
    "\n",
    "import pandas as pd\n",
    "import numpy as np"
   ]
  },
  {
   "cell_type": "markdown",
   "metadata": {},
   "source": [
    "# Running on set"
   ]
  },
  {
   "cell_type": "code",
   "execution_count": null,
   "metadata": {},
   "outputs": [],
   "source": [
    "from services.lanes.src.corridor import LanesCorridor, LanesCorridorParams\n",
    "\n",
    "def run_on_set(set_path: Path, skip=1, max=-1, plot=False, relevant_images=None, det='gt'):\n",
    "    if det == 'gt':\n",
    "        df_path = set_path.joinpath('results/infer/b2b_det.tsv')\n",
    "        pred_df = pd.read_csv(df_path, sep='\\t')\n",
    "    else:\n",
    "        df_path = set_path.joinpath('prod_det_sf.tsv')\n",
    "        pred_df = pd.read_csv(df_path, sep='\\t')\n",
    "        pred_df.name = pred_df.name.apply(lambda x: str(x) + '.png')\n",
    "    cametra_interface_data_path = set_path\n",
    "    images_path = set_path.joinpath('images')\n",
    "\n",
    "    max = len(pred_df.name.unique()[::skip]) if max == -1 else max\n",
    "    \n",
    "    relevant_imgs = pred_df.name.unique()[::skip][:max] if relevant_images is None else relevant_images\n",
    "    pred_df = pred_df[pred_df.name.isin(relevant_imgs)]\n",
    "\n",
    "    params = LanesCorridorParams(cametra_data_path=cametra_interface_data_path, \n",
    "                                  images_path=images_path,\n",
    "                                  plot=plot)\n",
    "    rbs = LanesCorridor(params=params)\n",
    "\n",
    "    df_with_results, lanes_dict = rbs.apply(detections=pred_df, \n",
    "                           save_path=df_path.parent)\n",
    "    \n",
    "    return df_with_results"
   ]
  },
  {
   "cell_type": "code",
   "execution_count": null,
   "metadata": {},
   "outputs": [],
   "source": [
    "imgs = ['1693509028000146.png', '1693509065000194.png', '1693508981000069.png', '1693508648999816.png', '1693508825000187.png', '1693508971000105.png', '1693508715000040.png']\n",
    "# imgs = ['1693508648999816.png']\n",
    "\n",
    "run_on_set(Path('/home/tamir/s3_sync/europe_run_3_10/64f561c6ac243656c2bd4fcd'), plot=True, relevant_images=imgs, det='prod')\n"
   ]
  },
  {
   "cell_type": "code",
   "execution_count": null,
   "metadata": {},
   "outputs": [],
   "source": [
    "imgs = [\n",
    "    '1693505384000123.png',\n",
    "    '1693505127000227.png',\n",
    "    '1693504169000151.png',\n",
    "    '1693504920999948.png', \n",
    "    '1693504688999997.png', \n",
    "    '1693505130000001.png', \n",
    "    '1693504325999935.png', \n",
    "    '1693504412999993.png', \n",
    "    '1693504410000127.png']\n",
    "\n",
    "run_on_set(Path('/home/tamir/s3_sync/europe_run_3_10/64f56183ac243656c2bd4fbe'), plot=True, relevant_images=imgs, det='prod')"
   ]
  },
  {
   "cell_type": "code",
   "execution_count": null,
   "metadata": {},
   "outputs": [],
   "source": [
    "imgs = [\n",
    "    '1686906627000293.png'\n",
    "    ]\n",
    "\n",
    "run_on_set(Path('/home/tamir/s3_sync/europe_run_3_10/64f45788ac243656c2bd4986'), plot=True, relevant_images=imgs, det='gt')"
   ]
  },
  {
   "cell_type": "code",
   "execution_count": null,
   "metadata": {},
   "outputs": [],
   "source": [
    "import pandas as pd\n",
    "df = pd.read_csv('/home/tamir/workspace/AB_B2B_Eval/tmp/64f45788ac243656c2bd4986_eval_test/inputs/b2b_det.tsv', sep='\\t')\n",
    "df"
   ]
  },
  {
   "cell_type": "code",
   "execution_count": null,
   "metadata": {},
   "outputs": [],
   "source": [
    "df.lane_assignment"
   ]
  },
  {
   "cell_type": "markdown",
   "metadata": {},
   "source": [
    "# Creating lanes.json and copy to s3"
   ]
  },
  {
   "cell_type": "code",
   "execution_count": null,
   "metadata": {},
   "outputs": [],
   "source": [
    "super_set_name = \"europe_run_3_10\"\n",
    "set_name = \"64f45788ac243656c2bd4986\"\n",
    "set_ids = [\n",
    "    \"64f45788ac243656c2bd4986\",\n",
    "    \"64f56176ac243656c2bd4fbb\",\n",
    "    \"64f56183ac243656c2bd4fbe\",\n",
    "    \"64f561c6ac243656c2bd4fcd\",\n",
    "    \"64f56167ac243656c2bd4fb7\",\n",
    "    \"64f5619dac243656c2bd4fc3\",\n",
    "    \"64ff1f1a7edfb609dc1b292a\",\n",
    "    \"64f6b55eac243656c2bd5c6e\",\n",
    "    \"64f6f556ac243656c2bd606f\",\n",
    "    \"65013e677edfb609dc1b3e31\",\n",
    "    \"65013e227edfb609dc1b3e22\",\n",
    "    \"65013e517edfb609dc1b3e2c\",\n",
    "    \"65013e3b7edfb609dc1b3e27\"\n",
    "]\n",
    "for set_name in set_ids:\n",
    "    run_lanes_filter_on_set(super_set_name, set_name)"
   ]
  },
  {
   "cell_type": "code",
   "execution_count": null,
   "metadata": {},
   "outputs": [],
   "source": [
    "import subprocess\n",
    "\n",
    "# Replace the command with your own\n",
    "set_name = \"64f561c6ac243656c2bd4fcd\"\n",
    "for set_name in set_ids:\n",
    "    json_path = f\"/home/tamir/s3_sync/europe_run_3_10/{set_name}/results/infer/lanes.json\"\n",
    "    s3_path = f\"s3://b2b-datasets/sets_to_generate_gt_for/europe_run_3_10/{set_name}/eval_on_infer_0.1.4/prod_sf_vs_al/inputs/\"\n",
    "    command = f\"aws s3 cp {json_path} {s3_path}\"\n",
    "    print(command)\n",
    "\n",
    "# # Run the command\n",
    "# result = subprocess.run(command, shell=True, stdout=subprocess.PIPE, stderr=subprocess.PIPE, text=True)\n",
    "# result"
   ]
  }
 ],
 "metadata": {
  "kernelspec": {
   "display_name": "eval",
   "language": "python",
   "name": "python3"
  },
  "language_info": {
   "codemirror_mode": {
    "name": "ipython",
    "version": 3
   },
   "file_extension": ".py",
   "mimetype": "text/x-python",
   "name": "python",
   "nbconvert_exporter": "python",
   "pygments_lexer": "ipython3",
   "version": "3.8.18"
  }
 },
 "nbformat": 4,
 "nbformat_minor": 2
}
